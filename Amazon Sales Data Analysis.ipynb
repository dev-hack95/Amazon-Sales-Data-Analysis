{
 "cells": [
  {
   "cell_type": "markdown",
   "id": "ca4838ee",
   "metadata": {},
   "source": [
    "# `Amazon Sales Data Analysis`"
   ]
  },
  {
   "cell_type": "code",
   "execution_count": 1,
   "id": "05147627",
   "metadata": {
    "ExecuteTime": {
     "end_time": "2022-06-19T15:52:09.885991Z",
     "start_time": "2022-06-19T15:52:04.184505Z"
    }
   },
   "outputs": [],
   "source": [
    "import pandas as pd\n",
    "import numpy as np\n",
    "import seaborn as sns\n",
    "import matplotlib.pyplot as plt\n",
    "import plotly.express as px\n",
    "import warnings\n",
    "import ipywidgets as widgets\n",
    "from matplotlib.pyplot import figure\n",
    "from IPython.display import Javascript, display\n",
    "\n",
    "\n",
    "plt.style.use('seaborn')\n",
    "warnings.filterwarnings('ignore')\n",
    "style = {'description_width': 'initial'}"
   ]
  },
  {
   "cell_type": "markdown",
   "id": "f0efec80",
   "metadata": {},
   "source": [
    "### D3.js\n",
    "\n",
    "* D3.js is a JavaScript library for manipulating documents based on data. D3 helps you bring data to life using HTML, SVG, and CSS. D3’s emphasis on web standards gives you the full capabilities of modern browsers without tying yourself to a proprietary framework, combining powerful visualization components and a data-driven approach to DOM manipulation\n",
    "\n",
    "* Url https://d3js.org/"
   ]
  },
  {
   "cell_type": "code",
   "execution_count": 2,
   "id": "b66fe42b",
   "metadata": {
    "ExecuteTime": {
     "end_time": "2022-06-19T15:52:11.681060Z",
     "start_time": "2022-06-19T15:52:11.661961Z"
    }
   },
   "outputs": [
    {
     "data": {
      "application/javascript": [
       "require.config({\n",
       "    paths: {\n",
       "        d3: 'https://d3js.org/d3.v7.min'\n",
       "    }\n",
       "})\n"
      ],
      "text/plain": [
       "<IPython.core.display.Javascript object>"
      ]
     },
     "metadata": {},
     "output_type": "display_data"
    }
   ],
   "source": [
    "%%javascript\n",
    "require.config({\n",
    "    paths: {\n",
    "        d3: 'https://d3js.org/d3.v7.min'\n",
    "    }\n",
    "})"
   ]
  },
  {
   "cell_type": "code",
   "execution_count": 3,
   "id": "a7bcdf9f",
   "metadata": {
    "ExecuteTime": {
     "end_time": "2022-06-19T15:52:12.355424Z",
     "start_time": "2022-06-19T15:52:12.330977Z"
    }
   },
   "outputs": [
    {
     "data": {
      "application/javascript": [
       "require([\"d3\"], function(d3){\n",
       "    console.log(d3)\n",
       "})\n"
      ],
      "text/plain": [
       "<IPython.core.display.Javascript object>"
      ]
     },
     "metadata": {},
     "output_type": "display_data"
    }
   ],
   "source": [
    "%%javascript\n",
    "require([\"d3\"], function(d3){\n",
    "    console.log(d3)\n",
    "})"
   ]
  },
  {
   "cell_type": "code",
   "execution_count": 5,
   "id": "adef2286",
   "metadata": {
    "ExecuteTime": {
     "end_time": "2022-06-19T15:52:22.475710Z",
     "start_time": "2022-06-19T15:52:22.454703Z"
    }
   },
   "outputs": [],
   "source": [
    "missing_values = ['N/A', 'na', np.nan, 'NaN']"
   ]
  },
  {
   "cell_type": "code",
   "execution_count": 6,
   "id": "bec280b1",
   "metadata": {
    "ExecuteTime": {
     "end_time": "2022-06-19T15:52:23.917823Z",
     "start_time": "2022-06-19T15:52:22.871485Z"
    }
   },
   "outputs": [],
   "source": [
    "df = pd.read_csv('D:/Datasets/Project/DATA/SALESDATA.csv', na_values=missing_values)"
   ]
  },
  {
   "cell_type": "code",
   "execution_count": 7,
   "id": "ec0e5a63",
   "metadata": {
    "ExecuteTime": {
     "end_time": "2022-06-19T15:52:24.112534Z",
     "start_time": "2022-06-19T15:52:24.059958Z"
    }
   },
   "outputs": [
    {
     "data": {
      "text/html": [
       "<div>\n",
       "<style scoped>\n",
       "    .dataframe tbody tr th:only-of-type {\n",
       "        vertical-align: middle;\n",
       "    }\n",
       "\n",
       "    .dataframe tbody tr th {\n",
       "        vertical-align: top;\n",
       "    }\n",
       "\n",
       "    .dataframe thead th {\n",
       "        text-align: right;\n",
       "    }\n",
       "</style>\n",
       "<table border=\"1\" class=\"dataframe\">\n",
       "  <thead>\n",
       "    <tr style=\"text-align: right;\">\n",
       "      <th></th>\n",
       "      <th>CustKey</th>\n",
       "      <th>DateKey</th>\n",
       "      <th>Discount Amount</th>\n",
       "      <th>Invoice Date</th>\n",
       "      <th>Invoice Number</th>\n",
       "      <th>Item Class</th>\n",
       "      <th>Item Number</th>\n",
       "      <th>Item</th>\n",
       "      <th>Line Number</th>\n",
       "      <th>List Price</th>\n",
       "      <th>...</th>\n",
       "      <th>Sales Amount</th>\n",
       "      <th>Sales Amount Based on List Price</th>\n",
       "      <th>Sales Cost Amount</th>\n",
       "      <th>Sales Margin Amount</th>\n",
       "      <th>Sales Price</th>\n",
       "      <th>Sales Quantity</th>\n",
       "      <th>Sales Rep</th>\n",
       "      <th>U/M</th>\n",
       "      <th>Unnamed: 20</th>\n",
       "      <th>Unnamed: 21</th>\n",
       "    </tr>\n",
       "  </thead>\n",
       "  <tbody>\n",
       "    <tr>\n",
       "      <th>0</th>\n",
       "      <td>10000481</td>\n",
       "      <td>4/30/2017</td>\n",
       "      <td>-237.91</td>\n",
       "      <td>2017/04/30</td>\n",
       "      <td>100012</td>\n",
       "      <td>NaN</td>\n",
       "      <td>NaN</td>\n",
       "      <td>Urban Large Eggs</td>\n",
       "      <td>2000</td>\n",
       "      <td>0.00</td>\n",
       "      <td>...</td>\n",
       "      <td>237.91</td>\n",
       "      <td>0.00</td>\n",
       "      <td>0.0</td>\n",
       "      <td>237.91</td>\n",
       "      <td>237.910000</td>\n",
       "      <td>1</td>\n",
       "      <td>184</td>\n",
       "      <td>EA</td>\n",
       "      <td>NaN</td>\n",
       "      <td>U/M = unit of measure</td>\n",
       "    </tr>\n",
       "    <tr>\n",
       "      <th>1</th>\n",
       "      <td>10002220</td>\n",
       "      <td>7/14/2017</td>\n",
       "      <td>368.79</td>\n",
       "      <td>2017/07/14</td>\n",
       "      <td>100233</td>\n",
       "      <td>P01</td>\n",
       "      <td>20910</td>\n",
       "      <td>Moms Sliced Turkey</td>\n",
       "      <td>1000</td>\n",
       "      <td>824.96</td>\n",
       "      <td>...</td>\n",
       "      <td>456.17</td>\n",
       "      <td>824.96</td>\n",
       "      <td>0.0</td>\n",
       "      <td>456.17</td>\n",
       "      <td>456.170000</td>\n",
       "      <td>1</td>\n",
       "      <td>127</td>\n",
       "      <td>EA</td>\n",
       "      <td>NaN</td>\n",
       "      <td>NaN</td>\n",
       "    </tr>\n",
       "    <tr>\n",
       "      <th>2</th>\n",
       "      <td>10002220</td>\n",
       "      <td>10/17/2017</td>\n",
       "      <td>109.73</td>\n",
       "      <td>2017/10/17</td>\n",
       "      <td>116165</td>\n",
       "      <td>P01</td>\n",
       "      <td>38076</td>\n",
       "      <td>Cutting Edge Foot-Long Hot Dogs</td>\n",
       "      <td>1000</td>\n",
       "      <td>548.66</td>\n",
       "      <td>...</td>\n",
       "      <td>438.93</td>\n",
       "      <td>548.66</td>\n",
       "      <td>0.0</td>\n",
       "      <td>438.93</td>\n",
       "      <td>438.930000</td>\n",
       "      <td>1</td>\n",
       "      <td>127</td>\n",
       "      <td>EA</td>\n",
       "      <td>NaN</td>\n",
       "      <td>EA = each</td>\n",
       "    </tr>\n",
       "    <tr>\n",
       "      <th>3</th>\n",
       "      <td>10002489</td>\n",
       "      <td>6/3/2017</td>\n",
       "      <td>-211.75</td>\n",
       "      <td>2017/06/03</td>\n",
       "      <td>100096</td>\n",
       "      <td>NaN</td>\n",
       "      <td>NaN</td>\n",
       "      <td>Kiwi Lox</td>\n",
       "      <td>1000</td>\n",
       "      <td>0.00</td>\n",
       "      <td>...</td>\n",
       "      <td>211.75</td>\n",
       "      <td>0.00</td>\n",
       "      <td>0.0</td>\n",
       "      <td>211.75</td>\n",
       "      <td>211.750000</td>\n",
       "      <td>1</td>\n",
       "      <td>160</td>\n",
       "      <td>EA</td>\n",
       "      <td>NaN</td>\n",
       "      <td>NaN</td>\n",
       "    </tr>\n",
       "    <tr>\n",
       "      <th>4</th>\n",
       "      <td>10004516</td>\n",
       "      <td>5/27/2017</td>\n",
       "      <td>96627.94</td>\n",
       "      <td>2017/05/27</td>\n",
       "      <td>103341</td>\n",
       "      <td>P01</td>\n",
       "      <td>60776</td>\n",
       "      <td>High Top Sweet Onion</td>\n",
       "      <td>1000</td>\n",
       "      <td>408.52</td>\n",
       "      <td>...</td>\n",
       "      <td>89248.66</td>\n",
       "      <td>185876.60</td>\n",
       "      <td>0.0</td>\n",
       "      <td>89248.66</td>\n",
       "      <td>196.150901</td>\n",
       "      <td>455</td>\n",
       "      <td>124</td>\n",
       "      <td>SE</td>\n",
       "      <td>NaN</td>\n",
       "      <td>SE = some SI unit like kgs or gallons</td>\n",
       "    </tr>\n",
       "  </tbody>\n",
       "</table>\n",
       "<p>5 rows × 22 columns</p>\n",
       "</div>"
      ],
      "text/plain": [
       "    CustKey     DateKey  Discount Amount Invoice Date  Invoice Number  \\\n",
       "0  10000481   4/30/2017          -237.91   2017/04/30          100012   \n",
       "1  10002220   7/14/2017           368.79   2017/07/14          100233   \n",
       "2  10002220  10/17/2017           109.73   2017/10/17          116165   \n",
       "3  10002489    6/3/2017          -211.75   2017/06/03          100096   \n",
       "4  10004516   5/27/2017         96627.94   2017/05/27          103341   \n",
       "\n",
       "  Item Class Item Number                             Item  Line Number  \\\n",
       "0        NaN         NaN                 Urban Large Eggs         2000   \n",
       "1        P01       20910               Moms Sliced Turkey         1000   \n",
       "2        P01       38076  Cutting Edge Foot-Long Hot Dogs         1000   \n",
       "3        NaN         NaN                         Kiwi Lox         1000   \n",
       "4        P01       60776             High Top Sweet Onion         1000   \n",
       "\n",
       "   List Price  ...  Sales Amount Sales Amount Based on List Price  \\\n",
       "0        0.00  ...        237.91                             0.00   \n",
       "1      824.96  ...        456.17                           824.96   \n",
       "2      548.66  ...        438.93                           548.66   \n",
       "3        0.00  ...        211.75                             0.00   \n",
       "4      408.52  ...      89248.66                        185876.60   \n",
       "\n",
       "   Sales Cost Amount  Sales Margin Amount  Sales Price  Sales Quantity  \\\n",
       "0                0.0               237.91   237.910000               1   \n",
       "1                0.0               456.17   456.170000               1   \n",
       "2                0.0               438.93   438.930000               1   \n",
       "3                0.0               211.75   211.750000               1   \n",
       "4                0.0             89248.66   196.150901             455   \n",
       "\n",
       "   Sales Rep  U/M  Unnamed: 20                            Unnamed: 21  \n",
       "0        184   EA          NaN                  U/M = unit of measure  \n",
       "1        127   EA          NaN                                    NaN  \n",
       "2        127   EA          NaN                              EA = each  \n",
       "3        160   EA          NaN                                    NaN  \n",
       "4        124   SE          NaN  SE = some SI unit like kgs or gallons  \n",
       "\n",
       "[5 rows x 22 columns]"
      ]
     },
     "execution_count": 7,
     "metadata": {},
     "output_type": "execute_result"
    }
   ],
   "source": [
    "df.head()"
   ]
  },
  {
   "cell_type": "code",
   "execution_count": 8,
   "id": "f0006a89",
   "metadata": {
    "ExecuteTime": {
     "end_time": "2022-06-19T15:52:24.293065Z",
     "start_time": "2022-06-19T15:52:24.239868Z"
    }
   },
   "outputs": [
    {
     "data": {
      "text/html": [
       "<div>\n",
       "<style scoped>\n",
       "    .dataframe tbody tr th:only-of-type {\n",
       "        vertical-align: middle;\n",
       "    }\n",
       "\n",
       "    .dataframe tbody tr th {\n",
       "        vertical-align: top;\n",
       "    }\n",
       "\n",
       "    .dataframe thead th {\n",
       "        text-align: right;\n",
       "    }\n",
       "</style>\n",
       "<table border=\"1\" class=\"dataframe\">\n",
       "  <thead>\n",
       "    <tr style=\"text-align: right;\">\n",
       "      <th></th>\n",
       "      <th>CustKey</th>\n",
       "      <th>DateKey</th>\n",
       "      <th>Discount Amount</th>\n",
       "      <th>Invoice Date</th>\n",
       "      <th>Invoice Number</th>\n",
       "      <th>Item Class</th>\n",
       "      <th>Item Number</th>\n",
       "      <th>Item</th>\n",
       "      <th>Line Number</th>\n",
       "      <th>List Price</th>\n",
       "      <th>...</th>\n",
       "      <th>Sales Amount</th>\n",
       "      <th>Sales Amount Based on List Price</th>\n",
       "      <th>Sales Cost Amount</th>\n",
       "      <th>Sales Margin Amount</th>\n",
       "      <th>Sales Price</th>\n",
       "      <th>Sales Quantity</th>\n",
       "      <th>Sales Rep</th>\n",
       "      <th>U/M</th>\n",
       "      <th>Unnamed: 20</th>\n",
       "      <th>Unnamed: 21</th>\n",
       "    </tr>\n",
       "  </thead>\n",
       "  <tbody>\n",
       "    <tr>\n",
       "      <th>65277</th>\n",
       "      <td>10017638</td>\n",
       "      <td>3/21/2018</td>\n",
       "      <td>505.78</td>\n",
       "      <td>2018/03/21</td>\n",
       "      <td>226497</td>\n",
       "      <td>P01</td>\n",
       "      <td>13447</td>\n",
       "      <td>High Top Oranges</td>\n",
       "      <td>8000</td>\n",
       "      <td>119.52</td>\n",
       "      <td>...</td>\n",
       "      <td>569.90</td>\n",
       "      <td>1075.68</td>\n",
       "      <td>239.95</td>\n",
       "      <td>329.95</td>\n",
       "      <td>63.322222</td>\n",
       "      <td>9</td>\n",
       "      <td>180</td>\n",
       "      <td>EA</td>\n",
       "      <td>NaN</td>\n",
       "      <td>NaN</td>\n",
       "    </tr>\n",
       "    <tr>\n",
       "      <th>65278</th>\n",
       "      <td>10017638</td>\n",
       "      <td>3/21/2018</td>\n",
       "      <td>410.75</td>\n",
       "      <td>2018/03/21</td>\n",
       "      <td>226497</td>\n",
       "      <td>P01</td>\n",
       "      <td>25906</td>\n",
       "      <td>Landslide White Sugar</td>\n",
       "      <td>38000</td>\n",
       "      <td>436.78</td>\n",
       "      <td>...</td>\n",
       "      <td>462.81</td>\n",
       "      <td>873.56</td>\n",
       "      <td>423.55</td>\n",
       "      <td>39.26</td>\n",
       "      <td>231.405000</td>\n",
       "      <td>2</td>\n",
       "      <td>180</td>\n",
       "      <td>EA</td>\n",
       "      <td>NaN</td>\n",
       "      <td>NaN</td>\n",
       "    </tr>\n",
       "    <tr>\n",
       "      <th>65279</th>\n",
       "      <td>10017638</td>\n",
       "      <td>3/21/2018</td>\n",
       "      <td>876.16</td>\n",
       "      <td>2018/03/21</td>\n",
       "      <td>226497</td>\n",
       "      <td>P01</td>\n",
       "      <td>61856</td>\n",
       "      <td>Moms Potato Salad</td>\n",
       "      <td>227001</td>\n",
       "      <td>232.92</td>\n",
       "      <td>...</td>\n",
       "      <td>987.20</td>\n",
       "      <td>1863.36</td>\n",
       "      <td>574.00</td>\n",
       "      <td>413.20</td>\n",
       "      <td>123.400000</td>\n",
       "      <td>8</td>\n",
       "      <td>180</td>\n",
       "      <td>EA</td>\n",
       "      <td>NaN</td>\n",
       "      <td>NaN</td>\n",
       "    </tr>\n",
       "    <tr>\n",
       "      <th>65280</th>\n",
       "      <td>10017638</td>\n",
       "      <td>3/21/2018</td>\n",
       "      <td>24226.77</td>\n",
       "      <td>2018/03/21</td>\n",
       "      <td>226498</td>\n",
       "      <td>P01</td>\n",
       "      <td>17801</td>\n",
       "      <td>Better Fancy Canned Sardines</td>\n",
       "      <td>1000</td>\n",
       "      <td>1431.23</td>\n",
       "      <td>...</td>\n",
       "      <td>27297.51</td>\n",
       "      <td>51524.28</td>\n",
       "      <td>16188.90</td>\n",
       "      <td>11108.61</td>\n",
       "      <td>758.264167</td>\n",
       "      <td>36</td>\n",
       "      <td>180</td>\n",
       "      <td>EA</td>\n",
       "      <td>NaN</td>\n",
       "      <td>NaN</td>\n",
       "    </tr>\n",
       "    <tr>\n",
       "      <th>65281</th>\n",
       "      <td>10017638</td>\n",
       "      <td>3/21/2018</td>\n",
       "      <td>24479.26</td>\n",
       "      <td>2018/03/21</td>\n",
       "      <td>226498</td>\n",
       "      <td>P01</td>\n",
       "      <td>27550</td>\n",
       "      <td>Imagine Popsicles</td>\n",
       "      <td>4000</td>\n",
       "      <td>1084.61</td>\n",
       "      <td>...</td>\n",
       "      <td>27582.02</td>\n",
       "      <td>52061.28</td>\n",
       "      <td>14234.22</td>\n",
       "      <td>13347.80</td>\n",
       "      <td>574.625417</td>\n",
       "      <td>48</td>\n",
       "      <td>180</td>\n",
       "      <td>EA</td>\n",
       "      <td>NaN</td>\n",
       "      <td>NaN</td>\n",
       "    </tr>\n",
       "  </tbody>\n",
       "</table>\n",
       "<p>5 rows × 22 columns</p>\n",
       "</div>"
      ],
      "text/plain": [
       "        CustKey    DateKey  Discount Amount Invoice Date  Invoice Number  \\\n",
       "65277  10017638  3/21/2018           505.78   2018/03/21          226497   \n",
       "65278  10017638  3/21/2018           410.75   2018/03/21          226497   \n",
       "65279  10017638  3/21/2018           876.16   2018/03/21          226497   \n",
       "65280  10017638  3/21/2018         24226.77   2018/03/21          226498   \n",
       "65281  10017638  3/21/2018         24479.26   2018/03/21          226498   \n",
       "\n",
       "      Item Class Item Number                          Item  Line Number  \\\n",
       "65277        P01       13447              High Top Oranges         8000   \n",
       "65278        P01       25906         Landslide White Sugar        38000   \n",
       "65279        P01       61856             Moms Potato Salad       227001   \n",
       "65280        P01       17801  Better Fancy Canned Sardines         1000   \n",
       "65281        P01       27550             Imagine Popsicles         4000   \n",
       "\n",
       "       List Price  ...  Sales Amount Sales Amount Based on List Price  \\\n",
       "65277      119.52  ...        569.90                          1075.68   \n",
       "65278      436.78  ...        462.81                           873.56   \n",
       "65279      232.92  ...        987.20                          1863.36   \n",
       "65280     1431.23  ...      27297.51                         51524.28   \n",
       "65281     1084.61  ...      27582.02                         52061.28   \n",
       "\n",
       "       Sales Cost Amount  Sales Margin Amount  Sales Price  Sales Quantity  \\\n",
       "65277             239.95               329.95    63.322222               9   \n",
       "65278             423.55                39.26   231.405000               2   \n",
       "65279             574.00               413.20   123.400000               8   \n",
       "65280           16188.90             11108.61   758.264167              36   \n",
       "65281           14234.22             13347.80   574.625417              48   \n",
       "\n",
       "       Sales Rep  U/M  Unnamed: 20 Unnamed: 21  \n",
       "65277        180   EA          NaN         NaN  \n",
       "65278        180   EA          NaN         NaN  \n",
       "65279        180   EA          NaN         NaN  \n",
       "65280        180   EA          NaN         NaN  \n",
       "65281        180   EA          NaN         NaN  \n",
       "\n",
       "[5 rows x 22 columns]"
      ]
     },
     "execution_count": 8,
     "metadata": {},
     "output_type": "execute_result"
    }
   ],
   "source": [
    "df.tail()"
   ]
  },
  {
   "cell_type": "code",
   "execution_count": 9,
   "id": "691d9a6d",
   "metadata": {
    "ExecuteTime": {
     "end_time": "2022-06-19T15:52:24.441223Z",
     "start_time": "2022-06-19T15:52:24.417043Z"
    }
   },
   "outputs": [],
   "source": [
    "df.drop(['Unnamed: 20', 'Unnamed: 21', 'Item Class'], axis=1, inplace=True)"
   ]
  },
  {
   "cell_type": "code",
   "execution_count": 10,
   "id": "5741e568",
   "metadata": {
    "ExecuteTime": {
     "end_time": "2022-06-19T15:52:24.757346Z",
     "start_time": "2022-06-19T15:52:24.743243Z"
    }
   },
   "outputs": [
    {
     "data": {
      "text/plain": [
       "Index(['CustKey', 'DateKey', 'Discount Amount', 'Invoice Date',\n",
       "       'Invoice Number', 'Item Number', 'Item', 'Line Number', 'List Price',\n",
       "       'Order Number', 'Promised Delivery Date', 'Sales Amount',\n",
       "       'Sales Amount Based on List Price', 'Sales Cost Amount',\n",
       "       'Sales Margin Amount', 'Sales Price', 'Sales Quantity', 'Sales Rep',\n",
       "       'U/M'],\n",
       "      dtype='object')"
      ]
     },
     "execution_count": 10,
     "metadata": {},
     "output_type": "execute_result"
    }
   ],
   "source": [
    "df.columns"
   ]
  },
  {
   "cell_type": "code",
   "execution_count": 11,
   "id": "3db39cf6",
   "metadata": {
    "ExecuteTime": {
     "end_time": "2022-06-19T15:52:25.287910Z",
     "start_time": "2022-06-19T15:52:25.147343Z"
    },
    "scrolled": true
   },
   "outputs": [
    {
     "name": "stdout",
     "output_type": "stream",
     "text": [
      "<class 'pandas.core.frame.DataFrame'>\n",
      "RangeIndex: 65282 entries, 0 to 65281\n",
      "Data columns (total 19 columns):\n",
      " #   Column                            Non-Null Count  Dtype  \n",
      "---  ------                            --------------  -----  \n",
      " 0   CustKey                           65282 non-null  int64  \n",
      " 1   DateKey                           65282 non-null  object \n",
      " 2   Discount Amount                   65280 non-null  float64\n",
      " 3   Invoice Date                      65282 non-null  object \n",
      " 4   Invoice Number                    65282 non-null  int64  \n",
      " 5   Item Number                       65241 non-null  object \n",
      " 6   Item                              65282 non-null  object \n",
      " 7   Line Number                       65282 non-null  int64  \n",
      " 8   List Price                        65282 non-null  float64\n",
      " 9   Order Number                      65282 non-null  int64  \n",
      " 10  Promised Delivery Date            65282 non-null  object \n",
      " 11  Sales Amount                      65282 non-null  float64\n",
      " 12  Sales Amount Based on List Price  65282 non-null  float64\n",
      " 13  Sales Cost Amount                 65282 non-null  float64\n",
      " 14  Sales Margin Amount               65282 non-null  float64\n",
      " 15  Sales Price                       65281 non-null  float64\n",
      " 16  Sales Quantity                    65282 non-null  int64  \n",
      " 17  Sales Rep                         65282 non-null  int64  \n",
      " 18  U/M                               65282 non-null  object \n",
      "dtypes: float64(7), int64(6), object(6)\n",
      "memory usage: 9.5+ MB\n"
     ]
    }
   ],
   "source": [
    "df.info()"
   ]
  },
  {
   "cell_type": "code",
   "execution_count": 12,
   "id": "69d7ead6",
   "metadata": {
    "ExecuteTime": {
     "end_time": "2022-06-19T15:52:25.657628Z",
     "start_time": "2022-06-19T15:52:25.539056Z"
    }
   },
   "outputs": [
    {
     "data": {
      "text/plain": [
       "CustKey                              0\n",
       "DateKey                              0\n",
       "Discount Amount                      2\n",
       "Invoice Date                         0\n",
       "Invoice Number                       0\n",
       "Item Number                         41\n",
       "Item                                 0\n",
       "Line Number                          0\n",
       "List Price                           0\n",
       "Order Number                         0\n",
       "Promised Delivery Date               0\n",
       "Sales Amount                         0\n",
       "Sales Amount Based on List Price     0\n",
       "Sales Cost Amount                    0\n",
       "Sales Margin Amount                  0\n",
       "Sales Price                          1\n",
       "Sales Quantity                       0\n",
       "Sales Rep                            0\n",
       "U/M                                  0\n",
       "dtype: int64"
      ]
     },
     "execution_count": 12,
     "metadata": {},
     "output_type": "execute_result"
    }
   ],
   "source": [
    "df.isnull().sum()"
   ]
  },
  {
   "cell_type": "code",
   "execution_count": 13,
   "id": "e11ed6c8",
   "metadata": {
    "ExecuteTime": {
     "end_time": "2022-06-19T15:52:25.991374Z",
     "start_time": "2022-06-19T15:52:25.972630Z"
    }
   },
   "outputs": [],
   "source": [
    "df['Discount Amount'].fillna(0, inplace=True)"
   ]
  },
  {
   "cell_type": "code",
   "execution_count": 14,
   "id": "ca826ee1",
   "metadata": {
    "ExecuteTime": {
     "end_time": "2022-06-19T15:52:26.407326Z",
     "start_time": "2022-06-19T15:52:26.397091Z"
    }
   },
   "outputs": [],
   "source": [
    "df['Sales Price'].fillna(0, inplace=True)"
   ]
  },
  {
   "cell_type": "code",
   "execution_count": 15,
   "id": "4496636d",
   "metadata": {
    "ExecuteTime": {
     "end_time": "2022-06-19T15:52:26.891044Z",
     "start_time": "2022-06-19T15:52:26.837211Z"
    }
   },
   "outputs": [
    {
     "data": {
      "text/html": [
       "<div>\n",
       "<style scoped>\n",
       "    .dataframe tbody tr th:only-of-type {\n",
       "        vertical-align: middle;\n",
       "    }\n",
       "\n",
       "    .dataframe tbody tr th {\n",
       "        vertical-align: top;\n",
       "    }\n",
       "\n",
       "    .dataframe thead th {\n",
       "        text-align: right;\n",
       "    }\n",
       "</style>\n",
       "<table border=\"1\" class=\"dataframe\">\n",
       "  <thead>\n",
       "    <tr style=\"text-align: right;\">\n",
       "      <th></th>\n",
       "      <th>CustKey</th>\n",
       "      <th>DateKey</th>\n",
       "      <th>Discount Amount</th>\n",
       "      <th>Invoice Date</th>\n",
       "      <th>Invoice Number</th>\n",
       "      <th>Item Number</th>\n",
       "      <th>Item</th>\n",
       "      <th>Line Number</th>\n",
       "      <th>List Price</th>\n",
       "      <th>Order Number</th>\n",
       "      <th>Promised Delivery Date</th>\n",
       "      <th>Sales Amount</th>\n",
       "      <th>Sales Amount Based on List Price</th>\n",
       "      <th>Sales Cost Amount</th>\n",
       "      <th>Sales Margin Amount</th>\n",
       "      <th>Sales Price</th>\n",
       "      <th>Sales Quantity</th>\n",
       "      <th>Sales Rep</th>\n",
       "      <th>U/M</th>\n",
       "    </tr>\n",
       "  </thead>\n",
       "  <tbody>\n",
       "    <tr>\n",
       "      <th>0</th>\n",
       "      <td>10000481</td>\n",
       "      <td>4/30/2017</td>\n",
       "      <td>-237.91</td>\n",
       "      <td>2017/04/30</td>\n",
       "      <td>100012</td>\n",
       "      <td>NaN</td>\n",
       "      <td>Urban Large Eggs</td>\n",
       "      <td>2000</td>\n",
       "      <td>0.00</td>\n",
       "      <td>200015</td>\n",
       "      <td>4/30/2017</td>\n",
       "      <td>237.91</td>\n",
       "      <td>0.00</td>\n",
       "      <td>0.00</td>\n",
       "      <td>237.91</td>\n",
       "      <td>237.910000</td>\n",
       "      <td>1</td>\n",
       "      <td>184</td>\n",
       "      <td>EA</td>\n",
       "    </tr>\n",
       "    <tr>\n",
       "      <th>1</th>\n",
       "      <td>10002220</td>\n",
       "      <td>7/14/2017</td>\n",
       "      <td>368.79</td>\n",
       "      <td>2017/07/14</td>\n",
       "      <td>100233</td>\n",
       "      <td>20910</td>\n",
       "      <td>Moms Sliced Turkey</td>\n",
       "      <td>1000</td>\n",
       "      <td>824.96</td>\n",
       "      <td>200245</td>\n",
       "      <td>7/14/2017</td>\n",
       "      <td>456.17</td>\n",
       "      <td>824.96</td>\n",
       "      <td>0.00</td>\n",
       "      <td>456.17</td>\n",
       "      <td>456.170000</td>\n",
       "      <td>1</td>\n",
       "      <td>127</td>\n",
       "      <td>EA</td>\n",
       "    </tr>\n",
       "    <tr>\n",
       "      <th>2</th>\n",
       "      <td>10002220</td>\n",
       "      <td>10/17/2017</td>\n",
       "      <td>109.73</td>\n",
       "      <td>2017/10/17</td>\n",
       "      <td>116165</td>\n",
       "      <td>38076</td>\n",
       "      <td>Cutting Edge Foot-Long Hot Dogs</td>\n",
       "      <td>1000</td>\n",
       "      <td>548.66</td>\n",
       "      <td>213157</td>\n",
       "      <td>10/16/2017</td>\n",
       "      <td>438.93</td>\n",
       "      <td>548.66</td>\n",
       "      <td>0.00</td>\n",
       "      <td>438.93</td>\n",
       "      <td>438.930000</td>\n",
       "      <td>1</td>\n",
       "      <td>127</td>\n",
       "      <td>EA</td>\n",
       "    </tr>\n",
       "    <tr>\n",
       "      <th>3</th>\n",
       "      <td>10002489</td>\n",
       "      <td>6/3/2017</td>\n",
       "      <td>-211.75</td>\n",
       "      <td>2017/06/03</td>\n",
       "      <td>100096</td>\n",
       "      <td>NaN</td>\n",
       "      <td>Kiwi Lox</td>\n",
       "      <td>1000</td>\n",
       "      <td>0.00</td>\n",
       "      <td>200107</td>\n",
       "      <td>6/3/2017</td>\n",
       "      <td>211.75</td>\n",
       "      <td>0.00</td>\n",
       "      <td>0.00</td>\n",
       "      <td>211.75</td>\n",
       "      <td>211.750000</td>\n",
       "      <td>1</td>\n",
       "      <td>160</td>\n",
       "      <td>EA</td>\n",
       "    </tr>\n",
       "    <tr>\n",
       "      <th>4</th>\n",
       "      <td>10004516</td>\n",
       "      <td>5/27/2017</td>\n",
       "      <td>96627.94</td>\n",
       "      <td>2017/05/27</td>\n",
       "      <td>103341</td>\n",
       "      <td>60776</td>\n",
       "      <td>High Top Sweet Onion</td>\n",
       "      <td>1000</td>\n",
       "      <td>408.52</td>\n",
       "      <td>203785</td>\n",
       "      <td>5/28/2017</td>\n",
       "      <td>89248.66</td>\n",
       "      <td>185876.60</td>\n",
       "      <td>0.00</td>\n",
       "      <td>89248.66</td>\n",
       "      <td>196.150901</td>\n",
       "      <td>455</td>\n",
       "      <td>124</td>\n",
       "      <td>SE</td>\n",
       "    </tr>\n",
       "    <tr>\n",
       "      <th>...</th>\n",
       "      <td>...</td>\n",
       "      <td>...</td>\n",
       "      <td>...</td>\n",
       "      <td>...</td>\n",
       "      <td>...</td>\n",
       "      <td>...</td>\n",
       "      <td>...</td>\n",
       "      <td>...</td>\n",
       "      <td>...</td>\n",
       "      <td>...</td>\n",
       "      <td>...</td>\n",
       "      <td>...</td>\n",
       "      <td>...</td>\n",
       "      <td>...</td>\n",
       "      <td>...</td>\n",
       "      <td>...</td>\n",
       "      <td>...</td>\n",
       "      <td>...</td>\n",
       "      <td>...</td>\n",
       "    </tr>\n",
       "    <tr>\n",
       "      <th>65277</th>\n",
       "      <td>10017638</td>\n",
       "      <td>3/21/2018</td>\n",
       "      <td>505.78</td>\n",
       "      <td>2018/03/21</td>\n",
       "      <td>226497</td>\n",
       "      <td>13447</td>\n",
       "      <td>High Top Oranges</td>\n",
       "      <td>8000</td>\n",
       "      <td>119.52</td>\n",
       "      <td>320895</td>\n",
       "      <td>3/21/2018</td>\n",
       "      <td>569.90</td>\n",
       "      <td>1075.68</td>\n",
       "      <td>239.95</td>\n",
       "      <td>329.95</td>\n",
       "      <td>63.322222</td>\n",
       "      <td>9</td>\n",
       "      <td>180</td>\n",
       "      <td>EA</td>\n",
       "    </tr>\n",
       "    <tr>\n",
       "      <th>65278</th>\n",
       "      <td>10017638</td>\n",
       "      <td>3/21/2018</td>\n",
       "      <td>410.75</td>\n",
       "      <td>2018/03/21</td>\n",
       "      <td>226497</td>\n",
       "      <td>25906</td>\n",
       "      <td>Landslide White Sugar</td>\n",
       "      <td>38000</td>\n",
       "      <td>436.78</td>\n",
       "      <td>320895</td>\n",
       "      <td>3/21/2018</td>\n",
       "      <td>462.81</td>\n",
       "      <td>873.56</td>\n",
       "      <td>423.55</td>\n",
       "      <td>39.26</td>\n",
       "      <td>231.405000</td>\n",
       "      <td>2</td>\n",
       "      <td>180</td>\n",
       "      <td>EA</td>\n",
       "    </tr>\n",
       "    <tr>\n",
       "      <th>65279</th>\n",
       "      <td>10017638</td>\n",
       "      <td>3/21/2018</td>\n",
       "      <td>876.16</td>\n",
       "      <td>2018/03/21</td>\n",
       "      <td>226497</td>\n",
       "      <td>61856</td>\n",
       "      <td>Moms Potato Salad</td>\n",
       "      <td>227001</td>\n",
       "      <td>232.92</td>\n",
       "      <td>320895</td>\n",
       "      <td>3/21/2018</td>\n",
       "      <td>987.20</td>\n",
       "      <td>1863.36</td>\n",
       "      <td>574.00</td>\n",
       "      <td>413.20</td>\n",
       "      <td>123.400000</td>\n",
       "      <td>8</td>\n",
       "      <td>180</td>\n",
       "      <td>EA</td>\n",
       "    </tr>\n",
       "    <tr>\n",
       "      <th>65280</th>\n",
       "      <td>10017638</td>\n",
       "      <td>3/21/2018</td>\n",
       "      <td>24226.77</td>\n",
       "      <td>2018/03/21</td>\n",
       "      <td>226498</td>\n",
       "      <td>17801</td>\n",
       "      <td>Better Fancy Canned Sardines</td>\n",
       "      <td>1000</td>\n",
       "      <td>1431.23</td>\n",
       "      <td>320907</td>\n",
       "      <td>3/21/2018</td>\n",
       "      <td>27297.51</td>\n",
       "      <td>51524.28</td>\n",
       "      <td>16188.90</td>\n",
       "      <td>11108.61</td>\n",
       "      <td>758.264167</td>\n",
       "      <td>36</td>\n",
       "      <td>180</td>\n",
       "      <td>EA</td>\n",
       "    </tr>\n",
       "    <tr>\n",
       "      <th>65281</th>\n",
       "      <td>10017638</td>\n",
       "      <td>3/21/2018</td>\n",
       "      <td>24479.26</td>\n",
       "      <td>2018/03/21</td>\n",
       "      <td>226498</td>\n",
       "      <td>27550</td>\n",
       "      <td>Imagine Popsicles</td>\n",
       "      <td>4000</td>\n",
       "      <td>1084.61</td>\n",
       "      <td>320907</td>\n",
       "      <td>3/21/2018</td>\n",
       "      <td>27582.02</td>\n",
       "      <td>52061.28</td>\n",
       "      <td>14234.22</td>\n",
       "      <td>13347.80</td>\n",
       "      <td>574.625417</td>\n",
       "      <td>48</td>\n",
       "      <td>180</td>\n",
       "      <td>EA</td>\n",
       "    </tr>\n",
       "  </tbody>\n",
       "</table>\n",
       "<p>65282 rows × 19 columns</p>\n",
       "</div>"
      ],
      "text/plain": [
       "        CustKey     DateKey  Discount Amount Invoice Date  Invoice Number  \\\n",
       "0      10000481   4/30/2017          -237.91   2017/04/30          100012   \n",
       "1      10002220   7/14/2017           368.79   2017/07/14          100233   \n",
       "2      10002220  10/17/2017           109.73   2017/10/17          116165   \n",
       "3      10002489    6/3/2017          -211.75   2017/06/03          100096   \n",
       "4      10004516   5/27/2017         96627.94   2017/05/27          103341   \n",
       "...         ...         ...              ...          ...             ...   \n",
       "65277  10017638   3/21/2018           505.78   2018/03/21          226497   \n",
       "65278  10017638   3/21/2018           410.75   2018/03/21          226497   \n",
       "65279  10017638   3/21/2018           876.16   2018/03/21          226497   \n",
       "65280  10017638   3/21/2018         24226.77   2018/03/21          226498   \n",
       "65281  10017638   3/21/2018         24479.26   2018/03/21          226498   \n",
       "\n",
       "      Item Number                             Item  Line Number  List Price  \\\n",
       "0             NaN                 Urban Large Eggs         2000        0.00   \n",
       "1           20910               Moms Sliced Turkey         1000      824.96   \n",
       "2           38076  Cutting Edge Foot-Long Hot Dogs         1000      548.66   \n",
       "3             NaN                         Kiwi Lox         1000        0.00   \n",
       "4           60776             High Top Sweet Onion         1000      408.52   \n",
       "...           ...                              ...          ...         ...   \n",
       "65277       13447                 High Top Oranges         8000      119.52   \n",
       "65278       25906            Landslide White Sugar        38000      436.78   \n",
       "65279       61856                Moms Potato Salad       227001      232.92   \n",
       "65280       17801     Better Fancy Canned Sardines         1000     1431.23   \n",
       "65281       27550                Imagine Popsicles         4000     1084.61   \n",
       "\n",
       "       Order Number Promised Delivery Date  Sales Amount  \\\n",
       "0            200015              4/30/2017        237.91   \n",
       "1            200245              7/14/2017        456.17   \n",
       "2            213157             10/16/2017        438.93   \n",
       "3            200107               6/3/2017        211.75   \n",
       "4            203785              5/28/2017      89248.66   \n",
       "...             ...                    ...           ...   \n",
       "65277        320895              3/21/2018        569.90   \n",
       "65278        320895              3/21/2018        462.81   \n",
       "65279        320895              3/21/2018        987.20   \n",
       "65280        320907              3/21/2018      27297.51   \n",
       "65281        320907              3/21/2018      27582.02   \n",
       "\n",
       "       Sales Amount Based on List Price  Sales Cost Amount  \\\n",
       "0                                  0.00               0.00   \n",
       "1                                824.96               0.00   \n",
       "2                                548.66               0.00   \n",
       "3                                  0.00               0.00   \n",
       "4                             185876.60               0.00   \n",
       "...                                 ...                ...   \n",
       "65277                           1075.68             239.95   \n",
       "65278                            873.56             423.55   \n",
       "65279                           1863.36             574.00   \n",
       "65280                          51524.28           16188.90   \n",
       "65281                          52061.28           14234.22   \n",
       "\n",
       "       Sales Margin Amount  Sales Price  Sales Quantity  Sales Rep U/M  \n",
       "0                   237.91   237.910000               1        184  EA  \n",
       "1                   456.17   456.170000               1        127  EA  \n",
       "2                   438.93   438.930000               1        127  EA  \n",
       "3                   211.75   211.750000               1        160  EA  \n",
       "4                 89248.66   196.150901             455        124  SE  \n",
       "...                    ...          ...             ...        ...  ..  \n",
       "65277               329.95    63.322222               9        180  EA  \n",
       "65278                39.26   231.405000               2        180  EA  \n",
       "65279               413.20   123.400000               8        180  EA  \n",
       "65280             11108.61   758.264167              36        180  EA  \n",
       "65281             13347.80   574.625417              48        180  EA  \n",
       "\n",
       "[65282 rows x 19 columns]"
      ]
     },
     "execution_count": 15,
     "metadata": {},
     "output_type": "execute_result"
    }
   ],
   "source": [
    "df"
   ]
  },
  {
   "cell_type": "code",
   "execution_count": 16,
   "id": "f53cd229",
   "metadata": {
    "ExecuteTime": {
     "end_time": "2022-06-19T15:52:28.932295Z",
     "start_time": "2022-06-19T15:52:28.898115Z"
    }
   },
   "outputs": [
    {
     "data": {
      "text/plain": [
       "Better Fancy Canned Sardines    1648\n",
       "Ebony Prepared Salad            1471\n",
       "Moms Sliced Turkey              1192\n",
       "Imagine Popsicles               1191\n",
       "Discover Manicotti              1126\n",
       "                                ... \n",
       "Fast Salted Pretzels               1\n",
       "Great Bagels                       1\n",
       "Imagine Frozen Cauliflower         1\n",
       "Jeffers Corn Puffs                 1\n",
       "Bravo Fancy Canned Sardines        1\n",
       "Name: Item, Length: 657, dtype: int64"
      ]
     },
     "execution_count": 16,
     "metadata": {},
     "output_type": "execute_result"
    }
   ],
   "source": [
    "# There are 657 Items\n",
    "df['Item'].value_counts()"
   ]
  },
  {
   "cell_type": "code",
   "execution_count": 17,
   "id": "be9e6754",
   "metadata": {
    "ExecuteTime": {
     "end_time": "2022-06-19T15:52:31.659289Z",
     "start_time": "2022-06-19T15:52:29.304661Z"
    }
   },
   "outputs": [
    {
     "data": {
      "text/plain": [
       "<AxesSubplot:ylabel='Density'>"
      ]
     },
     "execution_count": 17,
     "metadata": {},
     "output_type": "execute_result"
    },
    {
     "data": {
      "image/png": "[encoded data removed]",
      "text/plain": [
       "<Figure size 1440x576 with 1 Axes>"
      ]
     },
     "metadata": {},
     "output_type": "display_data"
    }
   ],
   "source": [
    "df.describe().plot.density(figsize=(20, 8), table=True)"
   ]
  },
  {
   "cell_type": "markdown",
   "id": "d61211fc",
   "metadata": {},
   "source": [
    "### `Working With Dates`"
   ]
  },
  {
   "cell_type": "code",
   "execution_count": 18,
   "id": "715348e2",
   "metadata": {
    "ExecuteTime": {
     "end_time": "2022-06-19T15:52:31.772173Z",
     "start_time": "2022-06-19T15:52:31.727583Z"
    }
   },
   "outputs": [],
   "source": [
    "df['DateKey'] = pd.to_datetime(df['DateKey'], format='%m/%d/%Y')"
   ]
  },
  {
   "cell_type": "code",
   "execution_count": 19,
   "id": "91a3c8e3",
   "metadata": {
    "ExecuteTime": {
     "end_time": "2022-06-19T15:52:31.893459Z",
     "start_time": "2022-06-19T15:52:31.843737Z"
    }
   },
   "outputs": [],
   "source": [
    "df['Invoice Date'] = pd.to_datetime(df['Invoice Date'], format='%Y/%m/%d')"
   ]
  },
  {
   "cell_type": "code",
   "execution_count": 20,
   "id": "147e5449",
   "metadata": {
    "ExecuteTime": {
     "end_time": "2022-06-19T15:52:32.941131Z",
     "start_time": "2022-06-19T15:52:31.979357Z"
    }
   },
   "outputs": [],
   "source": [
    "df['DateKey'] = pd.to_datetime(df['DateKey'].dt.strftime('%Y/%m/%d'))"
   ]
  },
  {
   "cell_type": "code",
   "execution_count": 21,
   "id": "c9ef0bc8",
   "metadata": {
    "ExecuteTime": {
     "end_time": "2022-06-19T15:52:33.039301Z",
     "start_time": "2022-06-19T15:52:32.999990Z"
    }
   },
   "outputs": [],
   "source": [
    "df['Promised Delivery Date'] = pd.to_datetime(df['Promised Delivery Date'], format='%m/%d/%Y')"
   ]
  },
  {
   "cell_type": "code",
   "execution_count": 22,
   "id": "4cbcb24b",
   "metadata": {
    "ExecuteTime": {
     "end_time": "2022-06-19T15:52:34.080076Z",
     "start_time": "2022-06-19T15:52:33.125175Z"
    }
   },
   "outputs": [],
   "source": [
    "df['Promised Delivery Date'] = pd.to_datetime(df['Promised Delivery Date'].dt.strftime('%Y/%m/%d'))"
   ]
  },
  {
   "cell_type": "code",
   "execution_count": 23,
   "id": "0a7364b4",
   "metadata": {
    "ExecuteTime": {
     "end_time": "2022-06-19T15:52:34.231936Z",
     "start_time": "2022-06-19T15:52:34.171008Z"
    }
   },
   "outputs": [
    {
     "data": {
      "text/html": [
       "<div>\n",
       "<style scoped>\n",
       "    .dataframe tbody tr th:only-of-type {\n",
       "        vertical-align: middle;\n",
       "    }\n",
       "\n",
       "    .dataframe tbody tr th {\n",
       "        vertical-align: top;\n",
       "    }\n",
       "\n",
       "    .dataframe thead th {\n",
       "        text-align: right;\n",
       "    }\n",
       "</style>\n",
       "<table border=\"1\" class=\"dataframe\">\n",
       "  <thead>\n",
       "    <tr style=\"text-align: right;\">\n",
       "      <th></th>\n",
       "      <th>CustKey</th>\n",
       "      <th>DateKey</th>\n",
       "      <th>Discount Amount</th>\n",
       "      <th>Invoice Date</th>\n",
       "      <th>Invoice Number</th>\n",
       "      <th>Item Number</th>\n",
       "      <th>Item</th>\n",
       "      <th>Line Number</th>\n",
       "      <th>List Price</th>\n",
       "      <th>Order Number</th>\n",
       "      <th>Promised Delivery Date</th>\n",
       "      <th>Sales Amount</th>\n",
       "      <th>Sales Amount Based on List Price</th>\n",
       "      <th>Sales Cost Amount</th>\n",
       "      <th>Sales Margin Amount</th>\n",
       "      <th>Sales Price</th>\n",
       "      <th>Sales Quantity</th>\n",
       "      <th>Sales Rep</th>\n",
       "      <th>U/M</th>\n",
       "    </tr>\n",
       "  </thead>\n",
       "  <tbody>\n",
       "    <tr>\n",
       "      <th>0</th>\n",
       "      <td>10000481</td>\n",
       "      <td>2017-04-30</td>\n",
       "      <td>-237.91</td>\n",
       "      <td>2017-04-30</td>\n",
       "      <td>100012</td>\n",
       "      <td>NaN</td>\n",
       "      <td>Urban Large Eggs</td>\n",
       "      <td>2000</td>\n",
       "      <td>0.00</td>\n",
       "      <td>200015</td>\n",
       "      <td>2017-04-30</td>\n",
       "      <td>237.91</td>\n",
       "      <td>0.00</td>\n",
       "      <td>0.00</td>\n",
       "      <td>237.91</td>\n",
       "      <td>237.910000</td>\n",
       "      <td>1</td>\n",
       "      <td>184</td>\n",
       "      <td>EA</td>\n",
       "    </tr>\n",
       "    <tr>\n",
       "      <th>1</th>\n",
       "      <td>10002220</td>\n",
       "      <td>2017-07-14</td>\n",
       "      <td>368.79</td>\n",
       "      <td>2017-07-14</td>\n",
       "      <td>100233</td>\n",
       "      <td>20910</td>\n",
       "      <td>Moms Sliced Turkey</td>\n",
       "      <td>1000</td>\n",
       "      <td>824.96</td>\n",
       "      <td>200245</td>\n",
       "      <td>2017-07-14</td>\n",
       "      <td>456.17</td>\n",
       "      <td>824.96</td>\n",
       "      <td>0.00</td>\n",
       "      <td>456.17</td>\n",
       "      <td>456.170000</td>\n",
       "      <td>1</td>\n",
       "      <td>127</td>\n",
       "      <td>EA</td>\n",
       "    </tr>\n",
       "    <tr>\n",
       "      <th>2</th>\n",
       "      <td>10002220</td>\n",
       "      <td>2017-10-17</td>\n",
       "      <td>109.73</td>\n",
       "      <td>2017-10-17</td>\n",
       "      <td>116165</td>\n",
       "      <td>38076</td>\n",
       "      <td>Cutting Edge Foot-Long Hot Dogs</td>\n",
       "      <td>1000</td>\n",
       "      <td>548.66</td>\n",
       "      <td>213157</td>\n",
       "      <td>2017-10-16</td>\n",
       "      <td>438.93</td>\n",
       "      <td>548.66</td>\n",
       "      <td>0.00</td>\n",
       "      <td>438.93</td>\n",
       "      <td>438.930000</td>\n",
       "      <td>1</td>\n",
       "      <td>127</td>\n",
       "      <td>EA</td>\n",
       "    </tr>\n",
       "    <tr>\n",
       "      <th>3</th>\n",
       "      <td>10002489</td>\n",
       "      <td>2017-06-03</td>\n",
       "      <td>-211.75</td>\n",
       "      <td>2017-06-03</td>\n",
       "      <td>100096</td>\n",
       "      <td>NaN</td>\n",
       "      <td>Kiwi Lox</td>\n",
       "      <td>1000</td>\n",
       "      <td>0.00</td>\n",
       "      <td>200107</td>\n",
       "      <td>2017-06-03</td>\n",
       "      <td>211.75</td>\n",
       "      <td>0.00</td>\n",
       "      <td>0.00</td>\n",
       "      <td>211.75</td>\n",
       "      <td>211.750000</td>\n",
       "      <td>1</td>\n",
       "      <td>160</td>\n",
       "      <td>EA</td>\n",
       "    </tr>\n",
       "    <tr>\n",
       "      <th>4</th>\n",
       "      <td>10004516</td>\n",
       "      <td>2017-05-27</td>\n",
       "      <td>96627.94</td>\n",
       "      <td>2017-05-27</td>\n",
       "      <td>103341</td>\n",
       "      <td>60776</td>\n",
       "      <td>High Top Sweet Onion</td>\n",
       "      <td>1000</td>\n",
       "      <td>408.52</td>\n",
       "      <td>203785</td>\n",
       "      <td>2017-05-28</td>\n",
       "      <td>89248.66</td>\n",
       "      <td>185876.60</td>\n",
       "      <td>0.00</td>\n",
       "      <td>89248.66</td>\n",
       "      <td>196.150901</td>\n",
       "      <td>455</td>\n",
       "      <td>124</td>\n",
       "      <td>SE</td>\n",
       "    </tr>\n",
       "    <tr>\n",
       "      <th>...</th>\n",
       "      <td>...</td>\n",
       "      <td>...</td>\n",
       "      <td>...</td>\n",
       "      <td>...</td>\n",
       "      <td>...</td>\n",
       "      <td>...</td>\n",
       "      <td>...</td>\n",
       "      <td>...</td>\n",
       "      <td>...</td>\n",
       "      <td>...</td>\n",
       "      <td>...</td>\n",
       "      <td>...</td>\n",
       "      <td>...</td>\n",
       "      <td>...</td>\n",
       "      <td>...</td>\n",
       "      <td>...</td>\n",
       "      <td>...</td>\n",
       "      <td>...</td>\n",
       "      <td>...</td>\n",
       "    </tr>\n",
       "    <tr>\n",
       "      <th>65277</th>\n",
       "      <td>10017638</td>\n",
       "      <td>2018-03-21</td>\n",
       "      <td>505.78</td>\n",
       "      <td>2018-03-21</td>\n",
       "      <td>226497</td>\n",
       "      <td>13447</td>\n",
       "      <td>High Top Oranges</td>\n",
       "      <td>8000</td>\n",
       "      <td>119.52</td>\n",
       "      <td>320895</td>\n",
       "      <td>2018-03-21</td>\n",
       "      <td>569.90</td>\n",
       "      <td>1075.68</td>\n",
       "      <td>239.95</td>\n",
       "      <td>329.95</td>\n",
       "      <td>63.322222</td>\n",
       "      <td>9</td>\n",
       "      <td>180</td>\n",
       "      <td>EA</td>\n",
       "    </tr>\n",
       "    <tr>\n",
       "      <th>65278</th>\n",
       "      <td>10017638</td>\n",
       "      <td>2018-03-21</td>\n",
       "      <td>410.75</td>\n",
       "      <td>2018-03-21</td>\n",
       "      <td>226497</td>\n",
       "      <td>25906</td>\n",
       "      <td>Landslide White Sugar</td>\n",
       "      <td>38000</td>\n",
       "      <td>436.78</td>\n",
       "      <td>320895</td>\n",
       "      <td>2018-03-21</td>\n",
       "      <td>462.81</td>\n",
       "      <td>873.56</td>\n",
       "      <td>423.55</td>\n",
       "      <td>39.26</td>\n",
       "      <td>231.405000</td>\n",
       "      <td>2</td>\n",
       "      <td>180</td>\n",
       "      <td>EA</td>\n",
       "    </tr>\n",
       "    <tr>\n",
       "      <th>65279</th>\n",
       "      <td>10017638</td>\n",
       "      <td>2018-03-21</td>\n",
       "      <td>876.16</td>\n",
       "      <td>2018-03-21</td>\n",
       "      <td>226497</td>\n",
       "      <td>61856</td>\n",
       "      <td>Moms Potato Salad</td>\n",
       "      <td>227001</td>\n",
       "      <td>232.92</td>\n",
       "      <td>320895</td>\n",
       "      <td>2018-03-21</td>\n",
       "      <td>987.20</td>\n",
       "      <td>1863.36</td>\n",
       "      <td>574.00</td>\n",
       "      <td>413.20</td>\n",
       "      <td>123.400000</td>\n",
       "      <td>8</td>\n",
       "      <td>180</td>\n",
       "      <td>EA</td>\n",
       "    </tr>\n",
       "    <tr>\n",
       "      <th>65280</th>\n",
       "      <td>10017638</td>\n",
       "      <td>2018-03-21</td>\n",
       "      <td>24226.77</td>\n",
       "      <td>2018-03-21</td>\n",
       "      <td>226498</td>\n",
       "      <td>17801</td>\n",
       "      <td>Better Fancy Canned Sardines</td>\n",
       "      <td>1000</td>\n",
       "      <td>1431.23</td>\n",
       "      <td>320907</td>\n",
       "      <td>2018-03-21</td>\n",
       "      <td>27297.51</td>\n",
       "      <td>51524.28</td>\n",
       "      <td>16188.90</td>\n",
       "      <td>11108.61</td>\n",
       "      <td>758.264167</td>\n",
       "      <td>36</td>\n",
       "      <td>180</td>\n",
       "      <td>EA</td>\n",
       "    </tr>\n",
       "    <tr>\n",
       "      <th>65281</th>\n",
       "      <td>10017638</td>\n",
       "      <td>2018-03-21</td>\n",
       "      <td>24479.26</td>\n",
       "      <td>2018-03-21</td>\n",
       "      <td>226498</td>\n",
       "      <td>27550</td>\n",
       "      <td>Imagine Popsicles</td>\n",
       "      <td>4000</td>\n",
       "      <td>1084.61</td>\n",
       "      <td>320907</td>\n",
       "      <td>2018-03-21</td>\n",
       "      <td>27582.02</td>\n",
       "      <td>52061.28</td>\n",
       "      <td>14234.22</td>\n",
       "      <td>13347.80</td>\n",
       "      <td>574.625417</td>\n",
       "      <td>48</td>\n",
       "      <td>180</td>\n",
       "      <td>EA</td>\n",
       "    </tr>\n",
       "  </tbody>\n",
       "</table>\n",
       "<p>65282 rows × 19 columns</p>\n",
       "</div>"
      ],
      "text/plain": [
       "        CustKey    DateKey  Discount Amount Invoice Date  Invoice Number  \\\n",
       "0      10000481 2017-04-30          -237.91   2017-04-30          100012   \n",
       "1      10002220 2017-07-14           368.79   2017-07-14          100233   \n",
       "2      10002220 2017-10-17           109.73   2017-10-17          116165   \n",
       "3      10002489 2017-06-03          -211.75   2017-06-03          100096   \n",
       "4      10004516 2017-05-27         96627.94   2017-05-27          103341   \n",
       "...         ...        ...              ...          ...             ...   \n",
       "65277  10017638 2018-03-21           505.78   2018-03-21          226497   \n",
       "65278  10017638 2018-03-21           410.75   2018-03-21          226497   \n",
       "65279  10017638 2018-03-21           876.16   2018-03-21          226497   \n",
       "65280  10017638 2018-03-21         24226.77   2018-03-21          226498   \n",
       "65281  10017638 2018-03-21         24479.26   2018-03-21          226498   \n",
       "\n",
       "      Item Number                             Item  Line Number  List Price  \\\n",
       "0             NaN                 Urban Large Eggs         2000        0.00   \n",
       "1           20910               Moms Sliced Turkey         1000      824.96   \n",
       "2           38076  Cutting Edge Foot-Long Hot Dogs         1000      548.66   \n",
       "3             NaN                         Kiwi Lox         1000        0.00   \n",
       "4           60776             High Top Sweet Onion         1000      408.52   \n",
       "...           ...                              ...          ...         ...   \n",
       "65277       13447                 High Top Oranges         8000      119.52   \n",
       "65278       25906            Landslide White Sugar        38000      436.78   \n",
       "65279       61856                Moms Potato Salad       227001      232.92   \n",
       "65280       17801     Better Fancy Canned Sardines         1000     1431.23   \n",
       "65281       27550                Imagine Popsicles         4000     1084.61   \n",
       "\n",
       "       Order Number Promised Delivery Date  Sales Amount  \\\n",
       "0            200015             2017-04-30        237.91   \n",
       "1            200245             2017-07-14        456.17   \n",
       "2            213157             2017-10-16        438.93   \n",
       "3            200107             2017-06-03        211.75   \n",
       "4            203785             2017-05-28      89248.66   \n",
       "...             ...                    ...           ...   \n",
       "65277        320895             2018-03-21        569.90   \n",
       "65278        320895             2018-03-21        462.81   \n",
       "65279        320895             2018-03-21        987.20   \n",
       "65280        320907             2018-03-21      27297.51   \n",
       "65281        320907             2018-03-21      27582.02   \n",
       "\n",
       "       Sales Amount Based on List Price  Sales Cost Amount  \\\n",
       "0                                  0.00               0.00   \n",
       "1                                824.96               0.00   \n",
       "2                                548.66               0.00   \n",
       "3                                  0.00               0.00   \n",
       "4                             185876.60               0.00   \n",
       "...                                 ...                ...   \n",
       "65277                           1075.68             239.95   \n",
       "65278                            873.56             423.55   \n",
       "65279                           1863.36             574.00   \n",
       "65280                          51524.28           16188.90   \n",
       "65281                          52061.28           14234.22   \n",
       "\n",
       "       Sales Margin Amount  Sales Price  Sales Quantity  Sales Rep U/M  \n",
       "0                   237.91   237.910000               1        184  EA  \n",
       "1                   456.17   456.170000               1        127  EA  \n",
       "2                   438.93   438.930000               1        127  EA  \n",
       "3                   211.75   211.750000               1        160  EA  \n",
       "4                 89248.66   196.150901             455        124  SE  \n",
       "...                    ...          ...             ...        ...  ..  \n",
       "65277               329.95    63.322222               9        180  EA  \n",
       "65278                39.26   231.405000               2        180  EA  \n",
       "65279               413.20   123.400000               8        180  EA  \n",
       "65280             11108.61   758.264167              36        180  EA  \n",
       "65281             13347.80   574.625417              48        180  EA  \n",
       "\n",
       "[65282 rows x 19 columns]"
      ]
     },
     "execution_count": 23,
     "metadata": {},
     "output_type": "execute_result"
    }
   ],
   "source": [
    "df"
   ]
  },
  {
   "cell_type": "code",
   "execution_count": 24,
   "id": "d5e570d5",
   "metadata": {
    "ExecuteTime": {
     "end_time": "2022-06-19T15:52:34.338966Z",
     "start_time": "2022-06-19T15:52:34.305333Z"
    }
   },
   "outputs": [],
   "source": [
    "df['DateKey_year'] = pd.DatetimeIndex(df['DateKey']).year\n",
    "df['DateKey_month'] = pd.DatetimeIndex(df['DateKey']).month\n",
    "df['DateKey_day'] = pd.DatetimeIndex(df['DateKey']).day"
   ]
  },
  {
   "cell_type": "markdown",
   "id": "c470ad4e",
   "metadata": {},
   "source": [
    "### `Analysis of Sales Margin Amount w.r.t Month`"
   ]
  },
  {
   "cell_type": "code",
   "execution_count": 25,
   "id": "7a9cb6ee",
   "metadata": {
    "ExecuteTime": {
     "end_time": "2022-06-19T15:52:34.463402Z",
     "start_time": "2022-06-19T15:52:34.453404Z"
    }
   },
   "outputs": [],
   "source": [
    "year_2017 = (df['DateKey_year'] == 2017)\n",
    "year_2018 = (df['DateKey_year'] == 2018) \n",
    "year_2019 = (df['DateKey_year'] == 2019) "
   ]
  },
  {
   "cell_type": "code",
   "execution_count": 26,
   "id": "876cbfc3",
   "metadata": {
    "ExecuteTime": {
     "end_time": "2022-06-19T15:52:34.809473Z",
     "start_time": "2022-06-19T15:52:34.774460Z"
    }
   },
   "outputs": [],
   "source": [
    "year_2017 = df[year_2017]\n",
    "year_2018 = df[year_2018]\n",
    "year_2019 = df[year_2019]"
   ]
  },
  {
   "cell_type": "markdown",
   "id": "c71d0425",
   "metadata": {},
   "source": [
    "* As per the year starts the sales is pretty good may be this is the effect of new year sale that amazon offers \n",
    "* Between month of May and June the Sales is below from the average line"
   ]
  },
  {
   "cell_type": "code",
   "execution_count": 27,
   "id": "7b5f4e01",
   "metadata": {
    "ExecuteTime": {
     "end_time": "2022-06-19T15:52:38.100789Z",
     "start_time": "2022-06-19T15:52:35.717670Z"
    }
   },
   "outputs": [
    {
     "data": {
      "text/plain": [
       "Text(7, 1650, 'Sales is heighest at 7th month of year')"
      ]
     },
     "execution_count": 27,
     "metadata": {},
     "output_type": "execute_result"
    },
    {
     "data": {
      "image/png": "[encoded data removed]",
      "text/plain": [
       "<Figure size 1584x576 with 1 Axes>"
      ]
     },
     "metadata": {},
     "output_type": "display_data"
    }
   ],
   "source": [
    "figure(figsize=(22, 8))\n",
    "sns.lineplot(year_2017['DateKey_month'], np.mean(year_2017['Sales Margin Amount']))\n",
    "sns.lineplot(year_2017['DateKey_month'], year_2017['Sales Margin Amount'], color=\"#db7b4f\")\n",
    "plt.text(4, 750, \"Sales is lowest at the 5th month of year\", horizontalalignment='left', size='medium', color='black', weight='semibold')\n",
    "plt.text(7, 1650, \"Sales is heighest at 7th month of year\", horizontalalignment='left', size='medium', color='black', weight='semibold')"
   ]
  },
  {
   "cell_type": "code",
   "execution_count": 28,
   "id": "7281222f",
   "metadata": {
    "ExecuteTime": {
     "end_time": "2022-06-19T15:52:39.245851Z",
     "start_time": "2022-06-19T15:52:38.371769Z"
    }
   },
   "outputs": [
    {
     "data": {
      "text/plain": [
       "<AxesSubplot:xlabel='DateKey_month', ylabel='Sales Margin Amount'>"
      ]
     },
     "execution_count": 28,
     "metadata": {},
     "output_type": "execute_result"
    },
    {
     "data": {
      "image/png": "[encoded data removed]",
      "text/plain": [
       "<Figure size 1584x576 with 1 Axes>"
      ]
     },
     "metadata": {},
     "output_type": "display_data"
    }
   ],
   "source": [
    "figure(figsize=(22, 8))\n",
    "sns.lineplot(year_2018['DateKey_month'], np.mean(year_2018['Sales Margin Amount']))\n",
    "sns.lineplot(year_2018['DateKey_month'], year_2018['Sales Margin Amount'], color=\"#db7b4f\")"
   ]
  },
  {
   "cell_type": "code",
   "execution_count": 29,
   "id": "291aa16f",
   "metadata": {
    "ExecuteTime": {
     "end_time": "2022-06-19T15:52:41.789305Z",
     "start_time": "2022-06-19T15:52:39.515244Z"
    }
   },
   "outputs": [
    {
     "data": {
      "text/plain": [
       "Text(1, 1850, 'Sales is heighest at start of year')"
      ]
     },
     "execution_count": 29,
     "metadata": {},
     "output_type": "execute_result"
    },
    {
     "data": {
      "image/png": "[encoded data removed]",
      "text/plain": [
       "<Figure size 1584x576 with 1 Axes>"
      ]
     },
     "metadata": {},
     "output_type": "display_data"
    }
   ],
   "source": [
    "figure(figsize=(22, 8))\n",
    "sns.lineplot(year_2019['DateKey_month'], np.mean(year_2019['Sales Margin Amount']))\n",
    "sns.lineplot(year_2019['DateKey_month'], year_2019['Sales Margin Amount'], color=\"#db7b4f\")\n",
    "plt.text(4, 600, \"Sales is lowest at the 5th month of year\", horizontalalignment='left', size='medium', color='black', weight='semibold')\n",
    "plt.text(1, 1850, \"Sales is heighest at start of year\", horizontalalignment='left', size='medium', color='black', weight='semibold')"
   ]
  },
  {
   "cell_type": "markdown",
   "id": "69408f5c",
   "metadata": {},
   "source": [
    "#### The trend is seen at the all of three years that the sales is higher at the start of year and then gradully decrease for first two quaters of year"
   ]
  },
  {
   "cell_type": "markdown",
   "id": "28c17183",
   "metadata": {},
   "source": [
    "* Quarter : First 3 Months (i.e q1(Quarter_1) is between 1-3 months; q2 is between 4-6 months) "
   ]
  },
  {
   "cell_type": "code",
   "execution_count": 30,
   "id": "ac0a404c",
   "metadata": {
    "ExecuteTime": {
     "end_time": "2022-06-19T15:53:46.154599Z",
     "start_time": "2022-06-19T15:52:42.055071Z"
    }
   },
   "outputs": [
    {
     "data": {
      "text/plain": [
       "<BarContainer object of 30575 artists>"
      ]
     },
     "execution_count": 30,
     "metadata": {},
     "output_type": "execute_result"
    },
    {
     "data": {
      "image/png": "[encoded data removed]",
      "text/plain": [
       "<Figure size 1728x576 with 1 Axes>"
      ]
     },
     "metadata": {},
     "output_type": "display_data"
    }
   ],
   "source": [
    "figure(figsize=(24, 8))\n",
    "plt.bar(year_2017['DateKey_month'], year_2017['Sales Margin Amount'], color=\"#db7b4f\", alpha=0.4)"
   ]
  },
  {
   "cell_type": "code",
   "execution_count": 31,
   "id": "3bd80573",
   "metadata": {
    "ExecuteTime": {
     "end_time": "2022-06-19T15:53:55.255913Z",
     "start_time": "2022-06-19T15:53:46.322948Z"
    }
   },
   "outputs": [
    {
     "data": {
      "text/plain": [
       "<BarContainer object of 6686 artists>"
      ]
     },
     "execution_count": 31,
     "metadata": {},
     "output_type": "execute_result"
    },
    {
     "data": {
      "image/png": "[encoded data removed]",
      "text/plain": [
       "<Figure size 1728x576 with 1 Axes>"
      ]
     },
     "metadata": {},
     "output_type": "display_data"
    }
   ],
   "source": [
    "figure(figsize=(24, 8))\n",
    "plt.bar(year_2018['DateKey_month'], year_2018['Sales Margin Amount'], color=\"#db7b4f\", alpha=0.4)"
   ]
  },
  {
   "cell_type": "code",
   "execution_count": 32,
   "id": "8dc1ec60",
   "metadata": {
    "ExecuteTime": {
     "end_time": "2022-06-19T15:54:32.882454Z",
     "start_time": "2022-06-19T15:53:55.375694Z"
    }
   },
   "outputs": [
    {
     "data": {
      "text/plain": [
       "<BarContainer object of 28021 artists>"
      ]
     },
     "execution_count": 32,
     "metadata": {},
     "output_type": "execute_result"
    },
    {
     "data": {
      "image/png": "[encoded data removed]",
      "text/plain": [
       "<Figure size 1728x576 with 1 Axes>"
      ]
     },
     "metadata": {},
     "output_type": "display_data"
    }
   ],
   "source": [
    "figure(figsize=(24, 8))\n",
    "plt.bar(year_2019['DateKey_month'], year_2019['Sales Margin Amount'], color=\"#db7b4f\", alpha=0.4)"
   ]
  },
  {
   "cell_type": "code",
   "execution_count": 34,
   "id": "4b263569",
   "metadata": {
    "ExecuteTime": {
     "end_time": "2022-06-19T16:00:55.125889Z",
     "start_time": "2022-06-19T16:00:55.093996Z"
    }
   },
   "outputs": [
    {
     "data": {
      "application/javascript": [
       "require([\"d3\"], function(d3){\n",
       "    \n",
       "const margin = {top: 10, right: 30, bottom: 30, left: 60},\n",
       "    width = 960 - margin.left - margin.right,\n",
       "    height = 600 - margin.top - margin.bottom;\n",
       "\n",
       "\n",
       "const svg = d3.select(\"#id01\")\n",
       "  .append(\"svg\")\n",
       "    .attr(\"width\", width + margin.left + margin.right)\n",
       "    .attr(\"height\", height + margin.top + margin.bottom)\n",
       "  .append(\"g\")\n",
       "    .attr(\"transform\", `translate(${margin.left},${margin.top})`);\n",
       "\n",
       "\n",
       "d3.csv(\"test.csv\",\n",
       "       \n",
       "\n",
       "  function(d){\n",
       "    return { date : d3.timeParse(\"%Y-%m-%d\")(d.DateKey), value : d.Sales }\n",
       "  }).then(\n",
       "\n",
       "\n",
       "  function(data) {\n",
       "\n",
       "    const x = d3.scaleTime()\n",
       "      .domain(d3.extent(data, function(d) { return d.DateKey; }))\n",
       "      .range([ 0, width ]);\n",
       "    svg.append(\"g\")\n",
       "      .attr(\"transform\", `translate(0, ${height})`)\n",
       "      .call(d3.axisBottom(x));\n",
       "\n",
       "    const y = d3.scaleLinear()\n",
       "      .domain([0, d3.max(data, function(d) { return +d.Sales; })])\n",
       "      .range([ height, 0 ]);\n",
       "    svg.append(\"g\")\n",
       "      .call(d3.axisLeft(y));\n",
       "\n",
       "    svg.append(\"path\")\n",
       "      .datum(data)\n",
       "      .attr(\"fill\", \"none\")\n",
       "      .attr(\"stroke\", \"steelblue\")\n",
       "      .attr(\"stroke-width\", 3)\n",
       "      .attr(\"d\", d3.line()\n",
       "        .x(function(d) { return x(d.DateKey) })\n",
       "        .y(function(d) { return y(d.Sales) })\n",
       "        )\n",
       "\n",
       "})\n",
       "})\n"
      ],
      "text/plain": [
       "<IPython.core.display.Javascript object>"
      ]
     },
     "metadata": {},
     "output_type": "display_data"
    }
   ],
   "source": [
    "%%javascript\n",
    "require([\"d3\"], function(d3){\n",
    "    \n",
    "const margin = {top: 10, right: 30, bottom: 30, left: 60},\n",
    "    width = 960 - margin.left - margin.right,\n",
    "    height = 600 - margin.top - margin.bottom;\n",
    "\n",
    "\n",
    "const svg = d3.select(\"#id01\")\n",
    "  .append(\"svg\")\n",
    "    .attr(\"width\", width + margin.left + margin.right)\n",
    "    .attr(\"height\", height + margin.top + margin.bottom)\n",
    "  .append(\"g\")\n",
    "    .attr(\"transform\", `translate(${margin.left},${margin.top})`);\n",
    "\n",
    "\n",
    "d3.csv(\"test.csv\",\n",
    "       \n",
    "\n",
    "  function(d){\n",
    "    return { date : d3.timeParse(\"%Y-%m-%d\")(d.DateKey), value : d.Sales }\n",
    "  }).then(\n",
    "\n",
    "\n",
    "  function(data) {\n",
    "\n",
    "    const x = d3.scaleTime()\n",
    "      .domain(d3.extent(data, function(d) { return d.DateKey; }))\n",
    "      .range([ 0, width ]);\n",
    "    svg.append(\"g\")\n",
    "      .attr(\"transform\", `translate(0, ${height})`)\n",
    "      .call(d3.axisBottom(x));\n",
    "\n",
    "    const y = d3.scaleLinear()\n",
    "      .domain([0, d3.max(data, function(d) { return +d.Sales; })])\n",
    "      .range([ height, 0 ]);\n",
    "    svg.append(\"g\")\n",
    "      .call(d3.axisLeft(y));\n",
    "\n",
    "    svg.append(\"path\")\n",
    "      .datum(data)\n",
    "      .attr(\"fill\", \"none\")\n",
    "      .attr(\"stroke\", \"steelblue\")\n",
    "      .attr(\"stroke-width\", 3)\n",
    "      .attr(\"d\", d3.line()\n",
    "        .x(function(d) { return x(d.DateKey) })\n",
    "        .y(function(d) { return y(d.Sales) })\n",
    "        )\n",
    "\n",
    "})\n",
    "})"
   ]
  },
  {
   "cell_type": "code",
   "execution_count": 33,
   "id": "676a43f1",
   "metadata": {
    "ExecuteTime": {
     "end_time": "2022-06-19T16:00:52.957584Z",
     "start_time": "2022-06-19T16:00:52.938418Z"
    },
    "scrolled": false
   },
   "outputs": [
    {
     "data": {
      "text/html": [
       "<div id=\"id01\"></div>\n"
      ],
      "text/plain": [
       "<IPython.core.display.HTML object>"
      ]
     },
     "metadata": {},
     "output_type": "display_data"
    }
   ],
   "source": [
    "%%html\n",
    "<div id=\"id01\"></div>"
   ]
  },
  {
   "cell_type": "code",
   "execution_count": null,
   "id": "c36332fb",
   "metadata": {},
   "outputs": [],
   "source": []
  }
 ],
 "metadata": {
  "kernelspec": {
   "display_name": "Python 3 (ipykernel)",
   "language": "python",
   "name": "python3"
  },
  "language_info": {
   "codemirror_mode": {
    "name": "ipython",
    "version": 3
   },
   "file_extension": ".py",
   "mimetype": "text/x-python",
   "name": "python",
   "nbconvert_exporter": "python",
   "pygments_lexer": "ipython3",
   "version": "3.8.10"
  },
  "latex_envs": {
   "LaTeX_envs_menu_present": true,
   "autoclose": false,
   "autocomplete": true,
   "bibliofile": "biblio.bib",
   "cite_by": "apalike",
   "current_citInitial": 1,
   "eqLabelWithNumbers": true,
   "eqNumInitial": 1,
   "hotkeys": {
    "equation": "Ctrl-E",
    "itemize": "Ctrl-I"
   },
   "labels_anchors": false,
   "latex_user_defs": false,
   "report_style_numbering": false,
   "user_envs_cfg": false
  },
  "varInspector": {
   "cols": {
    "lenName": 16,
    "lenType": 16,
    "lenVar": 40
   },
   "kernels_config": {
    "python": {
     "delete_cmd_postfix": "",
     "delete_cmd_prefix": "del ",
     "library": "var_list.py",
     "varRefreshCmd": "print(var_dic_list())"
    },
    "r": {
     "delete_cmd_postfix": ") ",
     "delete_cmd_prefix": "rm(",
     "library": "var_list.r",
     "varRefreshCmd": "cat(var_dic_list()) "
    }
   },
   "types_to_exclude": [
    "module",
    "function",
    "builtin_function_or_method",
    "instance",
    "_Feature"
   ],
   "window_display": false
  }
 },
 "nbformat": 4,
 "nbformat_minor": 5
}
